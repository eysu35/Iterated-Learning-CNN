{
 "cells": [
  {
   "cell_type": "code",
   "execution_count": null,
   "id": "2072d4a6",
   "metadata": {},
   "outputs": [],
   "source": [
    "###############\n",
    "## Libraries ##\n",
    "###############\n",
    "\n",
    "import tensorflow as tf\n",
    "import matplotlib.pyplot as plt \n",
    "import numpy as np\n",
    "from tensorflow.keras import datasets, layers, models, losses\n",
    "from keras.callbacks import ModelCheckpoint\n",
    "from keras.models import load_model"
   ]
  },
  {
   "cell_type": "code",
   "execution_count": null,
   "id": "8bea80df",
   "metadata": {},
   "outputs": [],
   "source": [
    "# load in mnist digit data\n",
    "all_data = np.load(\"/scratch/gpfs/eysu/src_data/mnist.npz\")\n",
    "print(all_data.files)\n",
    "x_test = all_data['x_test']\n",
    "x_train = all_data['x_train']\n",
    "y_train = all_data['y_train']\n",
    "y_test = all_data['y_test']\n",
    "\n",
    "# Split data and reset dimensions\n",
    "labels = [\"0\",  # index 0\n",
    "          \"1\",  # index 1\n",
    "          \"2\",  # index 2 \n",
    "          \"3\",  # index 3 \n",
    "          \"4\",  # index 4\n",
    "          \"5\",  # index 5\n",
    "          \"6\",  # index 6 \n",
    "          \"7\",  # index 7 \n",
    "          \"8\",  # index 8 \n",
    "          \"9\"]  # index 9\n",
    "\n",
    "# Print training set shape - note there are 60,000 training data of image size of 28x28, 60,000 train labels)\n",
    "print(\"x_train shape:\", x_train.shape, \"y_train shape:\", y_train.shape)\n",
    "\n",
    "# save train labels\n",
    "y_train_labels = y_train\n",
    "y_test_labels = y_test\n",
    "\n",
    "# Print the number of training and test datasets\n",
    "print(x_train.shape[0], 'train set')\n",
    "print(x_test.shape[0], 'test set')\n",
    "\n",
    "\n",
    "x_train = x_train.astype('float32') / 255\n",
    "x_test = x_test.astype('float32') / 255\n",
    "\n",
    "# Further break training data into train / validation sets (# put 5000 into validation set and keep remaining 55,000 for train)\n",
    "(x_train, x_valid) = x_train[5000:], x_train[:5000] \n",
    "(y_train, y_valid) = y_train[5000:], y_train[:5000]\n",
    "\n",
    "# Reshape input data from (28, 28) to (28, 28, 1)\n",
    "w, h = 28, 28\n",
    "x_train = x_train.reshape(x_train.shape[0], w, h, 1)\n",
    "x_valid = x_valid.reshape(x_valid.shape[0], w, h, 1)\n",
    "x_test = x_test.reshape(x_test.shape[0], w, h, 1)\n",
    "\n",
    "# Validation set\n",
    "y_valid = tf.keras.utils.to_categorical(y_valid, 10)\n",
    "y_test = tf.keras.utils.to_categorical(y_test, 10)"
   ]
  },
  {
   "cell_type": "code",
   "execution_count": null,
   "id": "2ecbf819",
   "metadata": {},
   "outputs": [],
   "source": [
    "################################################\n",
    "## Recreate model from final iterations of SR ##\n",
    "################################################\n",
    "\n",
    "# specify path of model to load in\n",
    "model_weights = 'Serial-Reproductions-CNN-Research/weights_concise/weights_digits_1_trunc/model.weights.best.iter24.hdf5'\n",
    "\n",
    "# load model\n",
    "model = load_model(model_weights)\n",
    "\n",
    "# examine model\n",
    "model.summary()\n",
    "model.get_weights()\n",
    "model.optimizer\n",
    "\n",
    "# layer_output = model.layers[-2].output\n",
    "# activation_model = models.Model(inputs=model.input, outputs=layer_output)\n",
    "\n",
    "# # Run image through model and get activations\n",
    "# activations = activation_model.predict(x_train) # should be 2 numpy arrays of dimension N images x 256D\n",
    "\n",
    "# print(activations.shape)"
   ]
  },
  {
   "cell_type": "code",
   "execution_count": null,
   "id": "eecba5d2",
   "metadata": {},
   "outputs": [],
   "source": [
    "layers = model.layers\n",
    "conv1 = layers[0]\n",
    "conv2 = layers[3]\n",
    "print(conv1)\n",
    "print(conv2)"
   ]
  },
  {
   "cell_type": "code",
   "execution_count": null,
   "id": "00473d9e",
   "metadata": {},
   "outputs": [],
   "source": [
    "filters, biases = conv1.get_weights()\n",
    "\n",
    "# normalize filter values to 0-1 so we can visualize them\n",
    "f_min, f_max = filters.min(), filters.max()\n",
    "filters = (filters - f_min) / (f_max - f_min)\n",
    "\n",
    "# print(filters)\n",
    "# print(biases)\n",
    "print(filters.shape)\n",
    "print(filters[0, 0, :, :])\n",
    "\n",
    "print(biases.shape)"
   ]
  },
  {
   "cell_type": "code",
   "execution_count": null,
   "id": "8bf6ea1d",
   "metadata": {},
   "outputs": [],
   "source": [
    "# Visualize Filters\n",
    "fig1 = plt.figure(figsize=(40, 40))\n",
    "fig1 = plt.subplot(4, 4, 1, xticks=[], yticks=[])\n",
    "plt.imshow(filters[0, 0, :, :], cmap='gray')\n"
   ]
  },
  {
   "cell_type": "code",
   "execution_count": null,
   "id": "01f0b193",
   "metadata": {},
   "outputs": [],
   "source": [
    "# plot first few filters\n",
    "from matplotlib import pyplot\n",
    "n_filters, ix = 2, 1\n",
    "for i in range(8):\n",
    "    # get the filter\n",
    "    f = filters[:, :, :, i]\n",
    "    print(f.shape)\n",
    "    # plot each channel separately\n",
    "    for j in range(1):\n",
    "        # specify subplot and turn of axis\n",
    "        ax = pyplot.subplot(n_filters, 2, ix)\n",
    "        ax.set_xticks([])\n",
    "        ax.set_yticks([])\n",
    "        # plot filter channel in grayscale\n",
    "        pyplot.imshow(f[:, :, j], cmap='gray')\n",
    "        ix += 1\n",
    "# show the figure\n",
    "pyplot.show()"
   ]
  },
  {
   "cell_type": "code",
   "execution_count": null,
   "id": "d31e084b",
   "metadata": {},
   "outputs": [],
   "source": []
  }
 ],
 "metadata": {
  "kernelspec": {
   "display_name": "tf2-gpu [~/.conda/envs/tf2-gpu/]",
   "language": "python",
   "name": "conda_tf2-gpu"
  },
  "language_info": {
   "codemirror_mode": {
    "name": "ipython",
    "version": 3
   },
   "file_extension": ".py",
   "mimetype": "text/x-python",
   "name": "python",
   "nbconvert_exporter": "python",
   "pygments_lexer": "ipython3",
   "version": "3.10.6"
  }
 },
 "nbformat": 4,
 "nbformat_minor": 5
}
